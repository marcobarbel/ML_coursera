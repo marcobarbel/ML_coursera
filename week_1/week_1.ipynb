{
  "nbformat": 4,
  "nbformat_minor": 0,
  "metadata": {
    "colab": {
      "name": "week_1.ipynb",
      "provenance": [],
      "include_colab_link": true
    },
    "kernelspec": {
      "name": "python3",
      "display_name": "Python 3"
    }
  },
  "cells": [
    {
      "cell_type": "markdown",
      "metadata": {
        "id": "view-in-github",
        "colab_type": "text"
      },
      "source": [
        "<a href=\"https://colab.research.google.com/github/marcobarbel/ML_coursera/blob/master/week_1/week_1.ipynb\" target=\"_parent\"><img src=\"https://colab.research.google.com/assets/colab-badge.svg\" alt=\"Open In Colab\"/></a>"
      ]
    },
    {
      "cell_type": "markdown",
      "metadata": {
        "id": "Q311cVDVzMzU",
        "colab_type": "text"
      },
      "source": [
        "## Installs / Imports"
      ]
    },
    {
      "cell_type": "code",
      "metadata": {
        "id": "pPf9IhDLzHQi",
        "colab_type": "code",
        "colab": {}
      },
      "source": [
        "import matplotlib.pyplot as plt\n",
        "from mpl_toolkits.mplot3d import Axes3D\n",
        "import numpy as np\n",
        "\n",
        "%matplotlib inline\n",
        "%config InlineBackend.figure_format = 'retina'"
      ],
      "execution_count": 0,
      "outputs": []
    },
    {
      "cell_type": "markdown",
      "metadata": {
        "id": "UoXV5QxoU4Ha",
        "colab_type": "text"
      },
      "source": [
        "**Notations**\n",
        "\n",
        "$m$ = number of training examples</br>\n",
        "$x$ = features (input variable)</br>\n",
        "$y$ = target (output variable)</br>"
      ]
    },
    {
      "cell_type": "markdown",
      "metadata": {
        "id": "i4GL1F2x3006",
        "colab_type": "text"
      },
      "source": [
        "### Linear Regression with One Variable"
      ]
    },
    {
      "cell_type": "markdown",
      "metadata": {
        "id": "4qF3aVyr3ssF",
        "colab_type": "text"
      },
      "source": [
        "$$ hyphotesis: h_{\\theta}(x) = \\theta_{0} + \\theta_{1}x $$</br>\n",
        "$ \\theta_{i's} $: parameters\n",
        "\n",
        "$ \\theta_{0} $ is where the line cross axis Y"
      ]
    },
    {
      "cell_type": "markdown",
      "metadata": {
        "id": "gl7K9UzI8tpz",
        "colab_type": "text"
      },
      "source": [
        "#### Cost function"
      ]
    },
    {
      "cell_type": "markdown",
      "metadata": {
        "id": "zwbvBSQ28wM-",
        "colab_type": "text"
      },
      "source": [
        "$$ J(\\theta_{0}, \\theta_{1}) = \\frac{1}{2m}\\sum_{i=1}^{m} (h_{\\theta}(x^{(i)})-y^{(i)})^{2} $$\n",
        "\n",
        "Objective is to minimize $ J(\\theta_{0}, \\theta_{1}) $"
      ]
    },
    {
      "cell_type": "code",
      "metadata": {
        "id": "0NpXovsI_EzN",
        "colab_type": "code",
        "outputId": "dd708dd1-c65a-4546-b2f7-13416a5e1b59",
        "colab": {
          "base_uri": "https://localhost:8080/",
          "height": 278
        }
      },
      "source": [
        "x = [1, 2, 3]\n",
        "y = [1, 2, 3]\n",
        "\n",
        "fig, ax = plt.subplots()\n",
        "\n",
        "# Plotting dots:\n",
        "ax.scatter(x, y)\n",
        "# ax.set_title('')\n",
        "plt.ylabel('y')\n",
        "plt.xlabel('x')\n",
        "\n",
        "# Plotting line:\n",
        "x = [1.0, 2.0, 3.0]\n",
        "y = [0.5, 1.0, 1.5]\n",
        "ax.plot(x, y)\n",
        "\n",
        "plt.show()"
      ],
      "execution_count": 2,
      "outputs": [
        {
          "output_type": "display_data",
          "data": {
            "image/png": "[encoded data removed]",
            "text/plain": [
              "<Figure size 432x288 with 1 Axes>"
            ]
          },
          "metadata": {
            "tags": [],
            "image/png": {
              "width": 385,
              "height": 261
            }
          }
        }
      ]
    },
    {
      "cell_type": "markdown",
      "metadata": {
        "id": "lwBCtDyhA6P7",
        "colab_type": "text"
      },
      "source": [
        "$ J(0.5) = \\frac{1}{2m} [(0.5-1)^2 + (1-2)^2 + (1.5 - 3)^2] $</br>\n",
        "$ \\frac{1}{2*3}(3*5) = \\frac{3*5}{6} \\approx 0.58 $"
      ]
    },
    {
      "cell_type": "markdown",
      "metadata": {
        "id": "nqIlqGGEEsao",
        "colab_type": "text"
      },
      "source": [
        "#### Gradient Descent"
      ]
    },
    {
      "cell_type": "markdown",
      "metadata": {
        "id": "IqY5BlHAE3TK",
        "colab_type": "text"
      },
      "source": [
        "Start with some $ \\theta_{0}, \\theta_{1} $, keep changing it to reduce $ J(\\theta_{0}, \\theta_{1}) $ until we hopefully end up at a minimum.</br>\n",
        "</br>\n",
        "Repeat until convergence:</br>\n",
        "$$ \\theta_{j}:= \\theta_{j} - \\alpha\\frac{\\delta}{\\delta\\theta_{j}}J(\\theta_{0}, \\theta_{1}) $$\n",
        "\n",
        "$\\alpha$: learning rate</br>\n",
        "$J(\\theta_{0}, \\theta_{1})$: cost function\n",
        "</br>\n",
        "\n",
        "If $\\alpha$ is too small, gradient descent can be slow.\n",
        "If $\\alpha$ is too lareg, gradient descent can overshoot the minimum, can fail to converge or even diverge.</br>\n",
        "\n",
        "Gradient Descent formula:\n",
        "\n",
        "$$ \\theta_{0} := \\theta_{0} - \\alpha\\frac{1}{m}\\sum_{i=1}^{m}(h_{\\theta_{0}}(x^{(i)})-y^{(i)}) $$</br>\n",
        "$$ \\theta_{1} := \\theta_{1} - \\alpha\\frac{1}{m}\\sum_{i=1}^{m}(h_{\\theta_{0}}(x^{(i)})-y^{(i)}) x^{(i)} $$</br>\n",
        "\n",
        "$ \\theta_{0} $ and $ \\theta_{1} $ are simultaneously updated"
      ]
    }
  ]
}
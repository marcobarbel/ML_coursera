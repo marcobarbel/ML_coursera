{
  "nbformat": 4,
  "nbformat_minor": 0,
  "metadata": {
    "colab": {
      "name": "Machine Learning - Coursera.ipynb",
      "provenance": [],
      "collapsed_sections": [],
      "include_colab_link": true
    },
    "kernelspec": {
      "name": "python3",
      "display_name": "Python 3"
    },
    "accelerator": "GPU"
  },
  "cells": [
    {
      "cell_type": "markdown",
      "metadata": {
        "id": "view-in-github",
        "colab_type": "text"
      },
      "source": [
        "<a href=\"https://colab.research.google.com/github/marcobarbel/ML_coursera/blob/master/machine_learning_coursera.ipynb\" target=\"_parent\"><img src=\"https://colab.research.google.com/assets/colab-badge.svg\" alt=\"Open In Colab\"/></a>"
      ]
    },
    {
      "cell_type": "markdown",
      "metadata": {
        "id": "QPblOJdS6_9p",
        "colab_type": "text"
      },
      "source": [
        "## Installs / Imports"
      ]
    },
    {
      "cell_type": "code",
      "metadata": {
        "id": "PmBJ4ielKhU3",
        "colab_type": "code",
        "colab": {}
      },
      "source": [
        "!pip install ipdb\n",
        "import ipdb"
      ],
      "execution_count": 0,
      "outputs": []
    },
    {
      "cell_type": "code",
      "metadata": {
        "id": "jva4dZii7D_Y",
        "colab_type": "code",
        "colab": {}
      },
      "source": [
        "import numpy as np\n",
        "import matplotlib.pyplot as plt\n",
        "import pandas as pd\n",
        "from pandas import DataFrame as pd_df\n"
      ],
      "execution_count": 0,
      "outputs": []
    },
    {
      "cell_type": "code",
      "metadata": {
        "id": "ghE7vyo75qHJ",
        "colab_type": "code",
        "outputId": "7d8e498f-9248-49bc-893c-9c59ee9f3317",
        "colab": {
          "base_uri": "https://localhost:8080/",
          "height": 35
        }
      },
      "source": [
        "# Download files:\n",
        "!git clone https://github.com/marcobarbel/ML_coursera"
      ],
      "execution_count": 0,
      "outputs": [
        {
          "output_type": "stream",
          "text": [
            "fatal: destination path 'ML_coursera' already exists and is not an empty directory.\n"
          ],
          "name": "stdout"
        }
      ]
    },
    {
      "cell_type": "markdown",
      "metadata": {
        "id": "UVD8i8EbUJC9",
        "colab_type": "text"
      },
      "source": [
        "## Equations"
      ]
    },
    {
      "cell_type": "markdown",
      "metadata": {
        "id": "7MNJZF4far_6",
        "colab_type": "text"
      },
      "source": [
        "**One feature**</br>"
      ]
    },
    {
      "cell_type": "markdown",
      "metadata": {
        "id": "1C_Kn8hiUOjd",
        "colab_type": "text"
      },
      "source": [
        "hyphotesis: \n",
        "$$ h_{\\theta}(x) = \\theta_{0} + \\theta_{1}x $$"
      ]
    },
    {
      "cell_type": "markdown",
      "metadata": {
        "id": "xifQslKoUSLR",
        "colab_type": "text"
      },
      "source": [
        "cost function: \n",
        "$$ J(\\theta_{0}, \\theta_{1}) = \\frac{1}{2m}\\sum_{i=1}^{m} (h_{\\theta}(x^{(i)})-y^{(i)})^{2} $$</br>"
      ]
    },
    {
      "cell_type": "markdown",
      "metadata": {
        "id": "e0TE0_Z6P8Yk",
        "colab_type": "text"
      },
      "source": [
        "gradient descent ($\\theta_{0}$ and $\\theta_{1}$ are updated simultaneously): \n",
        "$$ \\theta_{0} := \\theta_{0} - \\alpha\\frac{1}{m}\\sum_{i=1}^{m}(h_{\\theta_{0}}(x^{(i)})-y^{(i)}) $$</br>\n",
        "$$ \\theta_{1} := \\theta_{1} - \\alpha\\frac{1}{m}\\sum_{i=1}^{m}(h_{\\theta_{0}}(x^{(i)})-y^{(i)}) x^{(i)} $$</br>"
      ]
    },
    {
      "cell_type": "markdown",
      "metadata": {
        "id": "3nNJ8Br8a4YN",
        "colab_type": "text"
      },
      "source": [
        "**Multiple features**</br>"
      ]
    },
    {
      "cell_type": "markdown",
      "metadata": {
        "id": "6oAO1bN_a9PJ",
        "colab_type": "text"
      },
      "source": [
        "hyphotesis: \n",
        "$$ h_{\\theta}(x) = \\theta_{0}x_{0} + \\theta_{1}x_{1} + \\theta_{2}x_{2} + ... + \\theta_{n}x_{n} $$"
      ]
    },
    {
      "cell_type": "markdown",
      "metadata": {
        "id": "dk0iVLP11-C4",
        "colab_type": "text"
      },
      "source": [
        "## **Week 1** - one feature"
      ]
    },
    {
      "cell_type": "markdown",
      "metadata": {
        "id": "UoXV5QxoU4Ha",
        "colab_type": "text"
      },
      "source": [
        "**Notations**\n",
        "\n",
        "$m$ = number of training examples</br>\n",
        "$x$ = features (input variable)</br>\n",
        "$y$ = target (output variable)</br>"
      ]
    },
    {
      "cell_type": "markdown",
      "metadata": {
        "id": "i4GL1F2x3006",
        "colab_type": "text"
      },
      "source": [
        "### Linear Regression with One Variable"
      ]
    },
    {
      "cell_type": "markdown",
      "metadata": {
        "id": "4qF3aVyr3ssF",
        "colab_type": "text"
      },
      "source": [
        "$$ hyphotesis: h_{\\theta}(x) = \\theta_{0} + \\theta_{1}x $$</br>\n",
        "$ \\theta_{i's} $: parameters\n",
        "\n",
        "$ \\theta_{0} $ is where the line cross axis Y"
      ]
    },
    {
      "cell_type": "markdown",
      "metadata": {
        "id": "gl7K9UzI8tpz",
        "colab_type": "text"
      },
      "source": [
        "#### Cost function"
      ]
    },
    {
      "cell_type": "markdown",
      "metadata": {
        "id": "zwbvBSQ28wM-",
        "colab_type": "text"
      },
      "source": [
        "$$ J(\\theta_{0}, \\theta_{1}) = \\frac{1}{2m}\\sum_{i=1}^{m} (h_{\\theta}(x^{(i)})-y^{(i)})^{2} $$\n",
        "\n",
        "Objective is to minimize $ J(\\theta_{0}, \\theta_{1}) $"
      ]
    },
    {
      "cell_type": "code",
      "metadata": {
        "id": "0NpXovsI_EzN",
        "colab_type": "code",
        "outputId": "fa995ef9-8185-4d1e-a519-a6c175a4a267",
        "colab": {
          "base_uri": "https://localhost:8080/",
          "height": 279
        }
      },
      "source": [
        "x = [1, 2, 3]\n",
        "y = [1, 2, 3]\n",
        "\n",
        "fig, ax = plt.subplots()\n",
        "\n",
        "# Plotting dots:\n",
        "ax.scatter(x, y)\n",
        "# ax.set_title('')\n",
        "plt.ylabel('y')\n",
        "plt.xlabel('x')\n",
        "\n",
        "# Plotting line:\n",
        "x = [1.0, 2.0, 3.0]\n",
        "y = [0.5, 1.0, 1.5]\n",
        "ax.plot(x, y)\n",
        "\n",
        "plt.show()"
      ],
      "execution_count": 0,
      "outputs": [
        {
          "output_type": "display_data",
          "data": {
            "image/png": "[encoded data removed]",
            "text/plain": [
              "<Figure size 432x288 with 1 Axes>"
            ]
          },
          "metadata": {
            "tags": []
          }
        }
      ]
    },
    {
      "cell_type": "markdown",
      "metadata": {
        "id": "lwBCtDyhA6P7",
        "colab_type": "text"
      },
      "source": [
        "$ J(0.5) = \\frac{1}{2m} [(0.5-1)^2 + (1-2)^2 + (1.5 - 3)^2] $</br>\n",
        "$ \\frac{1}{2*3}(3*5) = \\frac{3*5}{6} \\approx 0.58 $"
      ]
    },
    {
      "cell_type": "markdown",
      "metadata": {
        "id": "nqIlqGGEEsao",
        "colab_type": "text"
      },
      "source": [
        "#### Gradient Descent"
      ]
    },
    {
      "cell_type": "markdown",
      "metadata": {
        "id": "IqY5BlHAE3TK",
        "colab_type": "text"
      },
      "source": [
        "Start with some $ \\theta_{0}, \\theta_{1} $, keep changing it to reduce $ J(\\theta_{0}, \\theta_{1}) $ until we hopefully end up at a minimum.</br>\n",
        "</br>\n",
        "Repeat until convergence:</br>\n",
        "$$ \\theta_{j}:= \\theta_{j} - \\alpha\\frac{\\delta}{\\delta\\theta_{j}}J(\\theta_{0}, \\theta_{1}) $$\n",
        "\n",
        "$\\alpha$: learning rate</br>\n",
        "$J(\\theta_{0}, \\theta_{1})$: cost function\n",
        "</br>\n",
        "\n",
        "If $\\alpha$ is too small, gradient descent can be slow.\n",
        "If $\\alpha$ is too lareg, gradient descent can overshoot the minimum, can fail to converge or even diverge.</br>\n",
        "\n",
        "Gradient Descent formula:\n",
        "\n",
        "$$ \\theta_{0} := \\theta_{0} - \\alpha\\frac{1}{m}\\sum_{i=1}^{m}(h_{\\theta_{0}}(x^{(i)})-y^{(i)}) $$</br>\n",
        "$$ \\theta_{1} := \\theta_{1} - \\alpha\\frac{1}{m}\\sum_{i=1}^{m}(h_{\\theta_{0}}(x^{(i)})-y^{(i)}) x^{(i)} $$</br>\n",
        "\n",
        "$ \\theta_{0} $ and $ \\theta_{1} $ are simultaneously updated"
      ]
    },
    {
      "cell_type": "markdown",
      "metadata": {
        "id": "s-93LsqA6zv8",
        "colab_type": "text"
      },
      "source": [
        "## **Week 2** - multiple features"
      ]
    },
    {
      "cell_type": "markdown",
      "metadata": {
        "id": "bsg3mQziVClE",
        "colab_type": "text"
      },
      "source": [
        "**Notations**\n",
        "\n",
        "$m$ = number of training examples</br>\n",
        "$n$ = number of features</br>\n",
        "$x^{(i)}$ = input(features) of $i^{th}$ training example</br>\n",
        "$x_{j}^{(i)}$ = value of feature $j$ in $i^{th}$ training example</br>\n",
        "$y^{(i)}$ = target (output variable)</br>\n"
      ]
    },
    {
      "cell_type": "markdown",
      "metadata": {
        "id": "08PyQKq8bgyl",
        "colab_type": "text"
      },
      "source": [
        "hypothesis:</br>\n",
        "$$ h_{\\theta}(x) = \\theta^{T}x =  \\theta_{0}x_{0} + \\theta_{1}x_{1} + \\theta_{2}x_{2} + ... + \\theta_{n}x_{n} $$</br>\n",
        "$ \\theta $: $n+1$ dimensional vector</br>\n",
        "$ x $: $n+1$ dimensional vector</br>"
      ]
    },
    {
      "cell_type": "markdown",
      "metadata": {
        "id": "G5nNzEv5eUwz",
        "colab_type": "text"
      },
      "source": [
        "Cost function:</br>\n",
        "$$ J(\\theta_{0}, \\theta_{1}, ..., \\theta_{n}) = \\frac{1}{2m}\\sum_{i=1}^{m} (h_{\\theta}(x^{(i)})-y^{(i)})^{2} $$"
      ]
    },
    {
      "cell_type": "markdown",
      "metadata": {
        "id": "4k2eVF8feUrE",
        "colab_type": "text"
      },
      "source": [
        "Gradient descent:</br>\n",
        "$$ \\theta_{j} := \\theta_{j} - \\alpha\\frac{1}{m}\\sum_{i=1}^{m}(h_{\\theta_{0}}(x^{(i)})-y^{(i)}) x_{j}^{(i)} $$</br>\n",
        "$ \\theta_{j} $ are simultaneously updated for $ j = 0,..., n $"
      ]
    },
    {
      "cell_type": "markdown",
      "metadata": {
        "id": "xqePcikX3xVJ",
        "colab_type": "text"
      },
      "source": [
        "Feature Scaling:\n"
      ]
    },
    {
      "cell_type": "markdown",
      "metadata": {
        "id": "RHHq-KOXzn23",
        "colab_type": "text"
      },
      "source": [
        "### **Programming Exercise**"
      ]
    },
    {
      "cell_type": "markdown",
      "metadata": {
        "id": "i7HnHrCJd6XT",
        "colab_type": "text"
      },
      "source": [
        "#### Load files for this week"
      ]
    },
    {
      "cell_type": "code",
      "metadata": {
        "id": "2Ov_n7kq8Woi",
        "colab_type": "code",
        "colab": {}
      },
      "source": [
        "main_folder = 'ML_coursera/machine-learning-ex1/ex1'\n",
        "\n",
        "# Open files used in this lesson:\n",
        "ex1data1_df = pd.read_csv(f'{main_folder}/ex1data1.txt', header=None)\n",
        "ex1data2_df = pd.read_csv(f'{main_folder}/ex1data2.txt', header=None)"
      ],
      "execution_count": 0,
      "outputs": []
    },
    {
      "cell_type": "markdown",
      "metadata": {
        "id": "Pzw4fG8R4Vs2",
        "colab_type": "text"
      },
      "source": [
        "#### 1 Simple function"
      ]
    },
    {
      "cell_type": "code",
      "metadata": {
        "id": "LqbjEUUj6Zu-",
        "colab_type": "code",
        "outputId": "658c2901-8b59-4970-f575-64dbb1098e72",
        "colab": {
          "base_uri": "https://localhost:8080/",
          "height": 107
        }
      },
      "source": [
        "A = np.identity(5)\n",
        "print(A)"
      ],
      "execution_count": 0,
      "outputs": [
        {
          "output_type": "stream",
          "text": [
            "[[1. 0. 0. 0. 0.]\n",
            " [0. 1. 0. 0. 0.]\n",
            " [0. 0. 1. 0. 0.]\n",
            " [0. 0. 0. 1. 0.]\n",
            " [0. 0. 0. 0. 1.]]\n"
          ],
          "name": "stdout"
        }
      ]
    },
    {
      "cell_type": "markdown",
      "metadata": {
        "id": "qaR21jO44cJc",
        "colab_type": "text"
      },
      "source": [
        "#### 2 Linear regression with one variable"
      ]
    },
    {
      "cell_type": "markdown",
      "metadata": {
        "id": "vDmB6wLa-w17",
        "colab_type": "text"
      },
      "source": [
        "##### 2.1 Plotting the data"
      ]
    },
    {
      "cell_type": "code",
      "metadata": {
        "id": "KUA5b0ZHQP7q",
        "colab_type": "code",
        "colab": {}
      },
      "source": [
        "# Split ex1data1_df into X and y (2 arrays):\n",
        "X, y = ex1data1_df[[0]], ex1data1_df[[1]]\n",
        "m = len(y)  # Number of training examples"
      ],
      "execution_count": 0,
      "outputs": []
    },
    {
      "cell_type": "code",
      "metadata": {
        "id": "ncbYLwY59txg",
        "colab_type": "code",
        "outputId": "76fe082b-5213-47de-8956-62bf5a5a7886",
        "colab": {
          "base_uri": "https://localhost:8080/",
          "height": 295
        }
      },
      "source": [
        "fig, ax = plt.subplots()\n",
        "ax.scatter(X, y)\n",
        "ax.set_title('2.1 Plotting the data')\n",
        "plt.ylabel('Profit in $10,000s')\n",
        "plt.xlabel('Population of City in 10,000s')\n",
        "plt.grid(linestyle='--')\n",
        "plt.show()"
      ],
      "execution_count": 0,
      "outputs": [
        {
          "output_type": "display_data",
          "data": {
            "image/png": "[encoded data removed]",
            "text/plain": [
              "<Figure size 432x288 with 1 Axes>"
            ]
          },
          "metadata": {
            "tags": []
          }
        }
      ]
    },
    {
      "cell_type": "markdown",
      "metadata": {
        "id": "uWjCU-Z_-_4z",
        "colab_type": "text"
      },
      "source": [
        "##### 2.2 Gradient Descent"
      ]
    },
    {
      "cell_type": "markdown",
      "metadata": {
        "id": "sZhIZHXkDYwW",
        "colab_type": "text"
      },
      "source": [
        "###### 2.2.2 Implementation"
      ]
    },
    {
      "cell_type": "code",
      "metadata": {
        "id": "uW-MvuV2D_Y5",
        "colab_type": "code",
        "colab": {}
      },
      "source": [
        "def add_columns_of_ones(df):\n",
        "    df = df.rename(columns={0:1})\n",
        "    df.insert(0, 0, 1)\n",
        "    return df"
      ],
      "execution_count": 0,
      "outputs": []
    },
    {
      "cell_type": "code",
      "metadata": {
        "id": "CzaFJXpHGdim",
        "colab_type": "code",
        "colab": {}
      },
      "source": [
        "X = add_columns_of_ones(X[[0]])\n",
        "theta = pd_df(np.zeros((2, 1)))\n",
        "iterations = 1500\n",
        "alpha = 0.01"
      ],
      "execution_count": 0,
      "outputs": []
    },
    {
      "cell_type": "markdown",
      "metadata": {
        "id": "JWgq0sdID6o5",
        "colab_type": "text"
      },
      "source": [
        "###### 2.2.3 Computing the cost J(theta)"
      ]
    },
    {
      "cell_type": "code",
      "metadata": {
        "id": "QXxS7IQNXmLa",
        "colab_type": "code",
        "colab": {}
      },
      "source": [
        "def computeCost(X, y, theta):\n",
        "    m = len(y) #number of training examples\n",
        "    J = 0\n",
        "    # predictions = np.matmul(X, theta)\n",
        "\n",
        "    # i = 1:m;\n",
        "    # J = (1/(2*m)) * sum( ((theta(1) + theta(2) .* X(i,2)) - y(i)) .^ 2); % Un-Vectorized\n",
        "\n",
        "    predictions = X.dot(theta)\n",
        "    print(X.head(5))\n",
        "    print(theta)\n",
        "    print(predictions.head(5))\n",
        "    ipdb.set_trace()\n",
        "    # sqrErrors = (predictions[0] - y[1]) ** 2\n",
        "    sqrErrors = (predictions[0].sub(y[1])) ** 2\n",
        "    J = (1/(2*m)) * sum(sqrErrors)\n",
        "    return J\n",
        "\n",
        "def gradientDescent(X, y, theta, alpha, iterations):\n",
        "    m = len(y)\n",
        "    J_history = pd_df(np.zeros((iterations, 1)))\n",
        "\n",
        "    for iter in range(iterations):\n",
        "        # ho = np.matmul(X, theta)\n",
        "        ho = X.dot(theta)\n",
        "        # delta = np.zeros((1,len(X[0])))\n",
        "        delta = pd_df(np.zeros((1, len(X[0]))))\n",
        "\n",
        "        for i in range(len(X[0])):\n",
        "            # ert = np.sum(np.multiply((ho-y), X[:, i:i+1]))\n",
        "            ert = pd_df.sum(pd_df.multiply((ho-y), X[:, i:i+1]))\n",
        "            delta[0][i] = (1/m) * ert\n",
        "        alpha_theta = alpha * delta\n",
        "        # theta = np.transpose(np.transpose(theta) - alpha_theta)\n",
        "        theta = pd_df.transpose(pd_df.transpose(theta) - alpha_theta)\n",
        "        J_history[iter][0] = computeCost(X, y, theta)\n",
        "    return theta, J"
      ],
      "execution_count": 0,
      "outputs": []
    },
    {
      "cell_type": "code",
      "metadata": {
        "id": "wHPSFtuJb7CV",
        "colab_type": "code",
        "outputId": "eb5e3754-1bcb-48e1-8910-22ded04f5552",
        "colab": {
          "base_uri": "https://localhost:8080/",
          "height": 53
        }
      },
      "source": [
        "X, y = ex1data1_df[[0]], ex1data1_df[[1]]\n",
        "m = len(y)  # Number of training examples\n",
        "X = add_columns_of_ones(X[[0]])\n",
        "theta = pd_df(np.zeros((2, 1)))\n",
        "iterations = 1500\n",
        "alpha = 0.01\n",
        "\n",
        "theta = pd_df(np.array([-1, 2]))\n",
        "# J = computeCost(X, y, theta)\n",
        "print(f'With theta=[-1,2] Cost computed = {J} \\nExpected cost value(approx) 54.24')"
      ],
      "execution_count": 0,
      "outputs": [
        {
          "output_type": "stream",
          "text": [
            "With theta=[-1,2] Cost computed = 112.10568493095055 \n",
            "Expected cost value(approx) 54.24\n"
          ],
          "name": "stdout"
        }
      ]
    },
    {
      "cell_type": "code",
      "metadata": {
        "id": "d-nBkGOjlCxJ",
        "colab_type": "code",
        "colab": {}
      },
      "source": [
        "theta, J = gradientDescent(X, y, theta, alpha, iterations)\n",
        "print(f'Theta found = {theta.tolist()}\\nExpected theta values(approx) = [-3.6303, 1.1664]')"
      ],
      "execution_count": 0,
      "outputs": []
    },
    {
      "cell_type": "code",
      "metadata": {
        "id": "PXzIo1Xa2XTR",
        "colab_type": "code",
        "outputId": "989089d2-62af-4746-b9b3-07d1ddffcf32",
        "colab": {
          "base_uri": "https://localhost:8080/",
          "height": 361
        }
      },
      "source": [
        "\n",
        "u = (X[:, 1:2] * theta[1]) + theta[0]\n",
        "fig, ax = plt.subplots()\n",
        "ax.scatter(X[:, 1:2], y)\n",
        "plt.plot(X[:, 1:2], u, '-r')\n",
        "plt.xlabel('Population of City in 10,000s')\n",
        "plt.ylabel('Profit in $10,000s')\n",
        "plt.show()"
      ],
      "execution_count": 0,
      "outputs": [
        {
          "output_type": "display_data",
          "data": {
            "image/png": "[encoded data removed]",
            "text/plain": [
              "<Figure size 576x396 with 1 Axes>"
            ]
          },
          "metadata": {
            "tags": []
          }
        }
      ]
    },
    {
      "cell_type": "code",
      "metadata": {
        "id": "hD3Emley3YG5",
        "colab_type": "code",
        "outputId": "3833734f-1196-46dc-e968-abac62203a50",
        "colab": {
          "base_uri": "https://localhost:8080/",
          "height": 34
        }
      },
      "source": [
        "pred1 = np.matmul([[1, 5]], theta)\n",
        "print(pred1*10000)"
      ],
      "execution_count": 0,
      "outputs": [
        {
          "output_type": "stream",
          "text": [
            "[[22015.20312274]]\n"
          ],
          "name": "stdout"
        }
      ]
    },
    {
      "cell_type": "markdown",
      "metadata": {
        "id": "eV91wQS7Kh67",
        "colab_type": "text"
      },
      "source": [
        "## Week 3"
      ]
    },
    {
      "cell_type": "code",
      "metadata": {
        "id": "mKcEp_zTKmwt",
        "colab_type": "code",
        "colab": {}
      },
      "source": [
        "import scipy.io\n",
        "data = scipy.io.loadmat('ex3data1.mat')\n",
        "weights = scipy.io.loadmat('ex3weights.mat')"
      ],
      "execution_count": 0,
      "outputs": []
    }
  ]
}